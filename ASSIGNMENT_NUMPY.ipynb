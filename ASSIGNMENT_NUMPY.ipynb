{
  "nbformat": 4,
  "nbformat_minor": 0,
  "metadata": {
    "colab": {
      "provenance": [],
      "authorship_tag": "ABX9TyMKFpgHyRUEH/p6wOF3yVkb",
      "include_colab_link": true
    },
    "kernelspec": {
      "name": "python3",
      "display_name": "Python 3"
    },
    "language_info": {
      "name": "python"
    }
  },
  "cells": [
    {
      "cell_type": "markdown",
      "metadata": {
        "id": "view-in-github",
        "colab_type": "text"
      },
      "source": [
        "<a href=\"https://colab.research.google.com/github/akifnawab038/ASSIGNMENT-NUMPY/blob/main/ASSIGNMENT_NUMPY.ipynb\" target=\"_parent\"><img src=\"https://colab.research.google.com/assets/colab-badge.svg\" alt=\"Open In Colab\"/></a>"
      ]
    },
    {
      "cell_type": "markdown",
      "source": [
        "# ASSIGNMENT\n",
        "  # NUMPY:"
      ],
      "metadata": {
        "id": "1_n-EGSglv1R"
      }
    },
    {
      "cell_type": "markdown",
      "source": [
        "### Practical questions"
      ],
      "metadata": {
        "id": "mvM4ul26l-y5"
      }
    },
    {
      "cell_type": "markdown",
      "source": [
        "**1. Create a 3x3 NumPy array with random integers between 1 and 100. Then, interchange its rows and columns**"
      ],
      "metadata": {
        "id": "yaG7tMWVmHx2"
      }
    },
    {
      "cell_type": "code",
      "execution_count": 1,
      "metadata": {
        "id": "-GNWI3OblnDM",
        "colab": {
          "base_uri": "https://localhost:8080/"
        },
        "outputId": "3bd0f17b-1fc9-4015-d7d8-055112ab4d93"
      },
      "outputs": [
        {
          "output_type": "stream",
          "name": "stdout",
          "text": [
            "Original array:\n",
            "[[72 80 54]\n",
            " [59 49  1]\n",
            " [24 42  8]]\n",
            "\n",
            "Interchanged array:\n",
            "[[72 59 24]\n",
            " [80 49 42]\n",
            " [54  1  8]]\n"
          ]
        }
      ],
      "source": [
        "import numpy as np\n",
        "\n",
        "\n",
        "array = np.random.randint(1, 101, (3, 3))\n",
        "\n",
        "print(\"Original array:\")\n",
        "print(array)\n",
        "\n",
        "interchanged_array = array.T\n",
        "\n",
        "print(\"\\nInterchanged array:\")\n",
        "print(interchanged_array)"
      ]
    },
    {
      "cell_type": "markdown",
      "source": [
        "**2. Generate a 1D NumPy array with 10 elements. Reshape it into a 2x5 array, then into a 5x2 array**"
      ],
      "metadata": {
        "id": "y0uT0LY4Oy6q"
      }
    },
    {
      "cell_type": "code",
      "source": [
        "import numpy as np\n",
        "\n",
        "arr = np.arange(10)\n",
        "\n",
        "arr_2x5 = arr.reshape(2, 5)\n",
        "print(\"2x5 array:\\n\", arr_2x5)\n",
        "\n",
        "arr_5x2 = arr.reshape(5, 2)\n",
        "print(\"5x2 array:\\n\", arr_5x2)"
      ],
      "metadata": {
        "colab": {
          "base_uri": "https://localhost:8080/"
        },
        "id": "h4kJlkglOnvT",
        "outputId": "9e2a36f2-b087-4a3c-d6d5-2838a5c85238"
      },
      "execution_count": 2,
      "outputs": [
        {
          "output_type": "stream",
          "name": "stdout",
          "text": [
            "2x5 array:\n",
            " [[0 1 2 3 4]\n",
            " [5 6 7 8 9]]\n",
            "5x2 array:\n",
            " [[0 1]\n",
            " [2 3]\n",
            " [4 5]\n",
            " [6 7]\n",
            " [8 9]]\n"
          ]
        }
      ]
    },
    {
      "cell_type": "markdown",
      "source": [
        "**3. Create a 4x4 NumPy array with random float values. Add a border of zeros around it, resulting in a 6x6 array.**"
      ],
      "metadata": {
        "id": "Liat79ZIPaR6"
      }
    },
    {
      "cell_type": "code",
      "source": [
        "import numpy as np\n",
        "\n",
        "arr = np.random.rand(4, 4)\n",
        "\n",
        "arr_with_border = np.pad(arr, pad_width=1, mode='constant', constant_values=0)\n",
        "\n",
        "print(\"4x4 array:\\n\", arr)\n",
        "print(\"6x6 array with border:\\n\", arr_with_border)"
      ],
      "metadata": {
        "colab": {
          "base_uri": "https://localhost:8080/"
        },
        "id": "zUcclbAXPJRL",
        "outputId": "6c5748cc-ddbc-402b-e108-072a73fd7fa6"
      },
      "execution_count": 5,
      "outputs": [
        {
          "output_type": "stream",
          "name": "stdout",
          "text": [
            "4x4 array:\n",
            " [[0.15586777 0.04910273 0.4253007  0.32749008]\n",
            " [0.66269189 0.53867361 0.73980084 0.26925793]\n",
            " [0.71145392 0.46609582 0.40620573 0.74380881]\n",
            " [0.50067306 0.41220718 0.94258054 0.64667963]]\n",
            "6x6 array with border:\n",
            " [[0.         0.         0.         0.         0.         0.        ]\n",
            " [0.         0.15586777 0.04910273 0.4253007  0.32749008 0.        ]\n",
            " [0.         0.66269189 0.53867361 0.73980084 0.26925793 0.        ]\n",
            " [0.         0.71145392 0.46609582 0.40620573 0.74380881 0.        ]\n",
            " [0.         0.50067306 0.41220718 0.94258054 0.64667963 0.        ]\n",
            " [0.         0.         0.         0.         0.         0.        ]]\n"
          ]
        }
      ]
    },
    {
      "cell_type": "markdown",
      "source": [
        "**4. Using NumPy, create an array of integers from 10 to 60 with a step of 5.**"
      ],
      "metadata": {
        "id": "yPbVc58YPvOz"
      }
    },
    {
      "cell_type": "code",
      "source": [
        "import numpy as np\n",
        "\n",
        "arr = np.arange(10, 61, 5)\n",
        "\n",
        "print(arr)"
      ],
      "metadata": {
        "colab": {
          "base_uri": "https://localhost:8080/"
        },
        "id": "ClcxP3z9Po6J",
        "outputId": "5473b19d-4c9e-42a4-845f-b9381bfdd7f7"
      },
      "execution_count": 6,
      "outputs": [
        {
          "output_type": "stream",
          "name": "stdout",
          "text": [
            "[10 15 20 25 30 35 40 45 50 55 60]\n"
          ]
        }
      ]
    },
    {
      "cell_type": "markdown",
      "source": [
        "**5. Create a NumPy array of strings ['python', 'numpy', 'pandas']. Apply different case transformations\n",
        "(uppercase, lowercase, title case, etc.) to each element.**"
      ],
      "metadata": {
        "id": "RrOI5YImP5UZ"
      }
    },
    {
      "cell_type": "code",
      "source": [
        "import numpy as np\n",
        "\n",
        "arr = np.array(['python', 'numpy', 'pandas'])\n",
        "\n",
        "arr_uppercase = np.char.upper(arr)\n",
        "arr_lowercase = np.char.lower(arr)\n",
        "arr_titlecase = np.char.title(arr)\n",
        "\n",
        "\n",
        "print(\"Uppercase:\", arr_uppercase)\n",
        "print(\"Lowercase:\", arr_lowercase)\n",
        "print(\"Titlecase:\", arr_titlecase)"
      ],
      "metadata": {
        "colab": {
          "base_uri": "https://localhost:8080/"
        },
        "id": "Vl0IqoOiQT5R",
        "outputId": "56885e74-2e1d-4c9e-f5fb-c1d4e79670ad"
      },
      "execution_count": 8,
      "outputs": [
        {
          "output_type": "stream",
          "name": "stdout",
          "text": [
            "Uppercase: ['PYTHON' 'NUMPY' 'PANDAS']\n",
            "Lowercase: ['python' 'numpy' 'pandas']\n",
            "Titlecase: ['Python' 'Numpy' 'Pandas']\n"
          ]
        }
      ]
    },
    {
      "cell_type": "markdown",
      "source": [
        "**6. Generate a NumPy array of words. Insert a space between each character of every word in the array.**"
      ],
      "metadata": {
        "id": "nTd7-iCeQf8B"
      }
    },
    {
      "cell_type": "code",
      "source": [
        "import numpy as np\n",
        "\n",
        "words = np.array([\"apple\", \"banana\", \"cherry\"])\n",
        "\n",
        "words_spaced = np.char.join(\" \", words)\n",
        "\n",
        "print(words_spaced)"
      ],
      "metadata": {
        "colab": {
          "base_uri": "https://localhost:8080/"
        },
        "id": "DvSwZeONQHd8",
        "outputId": "6558f666-db47-4624-a7f4-113e71975280"
      },
      "execution_count": 9,
      "outputs": [
        {
          "output_type": "stream",
          "name": "stdout",
          "text": [
            "['a p p l e' 'b a n a n a' 'c h e r r y']\n"
          ]
        }
      ]
    },
    {
      "cell_type": "markdown",
      "source": [
        "**7. Create two 2D NumPy arrays and perform element-wise addition, subtraction, multiplication, and division.**"
      ],
      "metadata": {
        "id": "GgpcixK5Qr5p"
      }
    },
    {
      "cell_type": "code",
      "source": [
        "import numpy as np\n",
        "\n",
        "array1 = np.array([[1, 2], [3, 4]])\n",
        "array2 = np.array([[5, 6], [7, 8]])\n",
        "\n",
        "result_add = array1 + array2\n",
        "print(\"Addition:\\n\", result_add)\n",
        "\n",
        "result_subtract = array1 - array2\n",
        "print(\"Subtraction:\\n\", result_subtract)\n",
        "\n",
        "result_multiply = array1 * array2\n",
        "print(\"Multiplication:\\n\", result_multiply)\n",
        "\n",
        "result_divide = array1 / array2\n",
        "print(\"Division:\\n\", result_divide)"
      ],
      "metadata": {
        "colab": {
          "base_uri": "https://localhost:8080/"
        },
        "id": "t7d74B5EQo8r",
        "outputId": "f3f8c98c-4f6e-4f10-f7f0-0641878fbe45"
      },
      "execution_count": 10,
      "outputs": [
        {
          "output_type": "stream",
          "name": "stdout",
          "text": [
            "Addition:\n",
            " [[ 6  8]\n",
            " [10 12]]\n",
            "Subtraction:\n",
            " [[-4 -4]\n",
            " [-4 -4]]\n",
            "Multiplication:\n",
            " [[ 5 12]\n",
            " [21 32]]\n",
            "Division:\n",
            " [[0.2        0.33333333]\n",
            " [0.42857143 0.5       ]]\n"
          ]
        }
      ]
    },
    {
      "cell_type": "markdown",
      "source": [
        "**8. Use NumPy to create a 5x5 identity matrix, then extract its diagonal elements.**"
      ],
      "metadata": {
        "id": "J6uDGJV9Q2Sh"
      }
    },
    {
      "cell_type": "code",
      "source": [
        "import numpy as np\n",
        "\n",
        "identity_matrix = np.eye(5)\n",
        "\n",
        "diagonal_elements = np.diag(identity_matrix)\n",
        "\n",
        "print(\"Identity matrix:\\n\", identity_matrix)\n",
        "print(\"Diagonal elements:\", diagonal_elements)"
      ],
      "metadata": {
        "colab": {
          "base_uri": "https://localhost:8080/"
        },
        "id": "jvAoIm7pQzDr",
        "outputId": "ad28d3b4-efc4-4915-d261-d744a8856724"
      },
      "execution_count": 11,
      "outputs": [
        {
          "output_type": "stream",
          "name": "stdout",
          "text": [
            "Identity matrix:\n",
            " [[1. 0. 0. 0. 0.]\n",
            " [0. 1. 0. 0. 0.]\n",
            " [0. 0. 1. 0. 0.]\n",
            " [0. 0. 0. 1. 0.]\n",
            " [0. 0. 0. 0. 1.]]\n",
            "Diagonal elements: [1. 1. 1. 1. 1.]\n"
          ]
        }
      ]
    },
    {
      "cell_type": "markdown",
      "source": [
        "**9. Generate a NumPy array of 100 random integers between 0 and 1000. Find and display all prime numbers in\n",
        "this array**"
      ],
      "metadata": {
        "id": "q-kz6vu-Q-Ph"
      }
    },
    {
      "cell_type": "code",
      "source": [
        "import numpy as np\n",
        "\n",
        "random_numbers = np.random.randint(0, 1001, 100)\n",
        "\n",
        "def is_prime(num):\n",
        "    if num <= 1:\n",
        "        return False\n",
        "    if num <= 3:\n",
        "        return True\n",
        "    if num % 2 == 0 or num % 3 == 0:\n",
        "        return False\n",
        "    i = 5\n",
        "    while i * i <= num:\n",
        "        if num % i == 0 or num % (i + 2) == 0:\n",
        "            return False\n",
        "        i += 6\n",
        "    return True\n",
        "\n",
        "prime_numbers = [num for num in random_numbers if is_prime(num)]\n",
        "\n",
        "print(\"Prime numbers in the array:\", prime_numbers)"
      ],
      "metadata": {
        "colab": {
          "base_uri": "https://localhost:8080/"
        },
        "id": "YoaEFrgKQ8K_",
        "outputId": "d25c515d-c2ba-4a6c-c1c6-4c3c69b2195a"
      },
      "execution_count": 12,
      "outputs": [
        {
          "output_type": "stream",
          "name": "stdout",
          "text": [
            "Prime numbers in the array: [163, 991, 587, 139, 307, 541, 281, 157, 557, 349, 887, 997]\n"
          ]
        }
      ]
    },
    {
      "cell_type": "markdown",
      "source": [
        "**10. Create a NumPy array representing daily temperatures for a month. Calculate and display the weekly\n",
        "averages.**"
      ],
      "metadata": {
        "id": "O6F0quDSRNQx"
      }
    },
    {
      "cell_type": "code",
      "source": [
        "import numpy as np\n",
        "\n",
        "num_days = 31\n",
        "\n",
        "daily_temps = np.random.randint(60, 90, num_days)\n",
        "\n",
        "weekly_averages = []\n",
        "for i in range(0, num_days, 7):\n",
        "    week_temps = daily_temps[i:i+7]\n",
        "    weekly_average = np.mean(week_temps)\n",
        "    weekly_averages.append(weekly_average)\n",
        "\n",
        "print(\"Weekly Averages:\")\n",
        "for i, average in enumerate(weekly_averages):\n",
        "    print(f\"Week {i+1}: {average:.2f}\")"
      ],
      "metadata": {
        "colab": {
          "base_uri": "https://localhost:8080/"
        },
        "id": "vea0VHktRGTv",
        "outputId": "d9f39344-2c99-4496-81a8-013e902061a4"
      },
      "execution_count": 13,
      "outputs": [
        {
          "output_type": "stream",
          "name": "stdout",
          "text": [
            "Weekly Averages:\n",
            "Week 1: 79.43\n",
            "Week 2: 76.00\n",
            "Week 3: 74.29\n",
            "Week 4: 72.86\n",
            "Week 5: 78.33\n"
          ]
        }
      ]
    },
    {
      "cell_type": "code",
      "source": [],
      "metadata": {
        "id": "_o5DrHujRVsh"
      },
      "execution_count": null,
      "outputs": []
    }
  ]
}